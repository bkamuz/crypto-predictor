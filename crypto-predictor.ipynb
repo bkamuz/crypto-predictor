{
 "cells": [
  {
   "cell_type": "code",
   "execution_count": null,
   "metadata": {},
   "outputs": [],
   "source": [
    "import requests\n",
    "\n",
    "# I need a function to get historical data from Binance Api using requests lib and save it to csv file, i need to specify timerange also and from date to date"
   ]
  },
  {
   "cell_type": "code",
   "execution_count": 1,
   "metadata": {},
   "outputs": [
    {
     "name": "stdout",
     "output_type": "stream",
     "text": [
      "Collecting ccxt\n",
      "  Downloading ccxt-3.0.56-py2.py3-none-any.whl (3.6 MB)\n",
      "\u001b[2K     \u001b[90m━━━━━━━━━━━━━━━━━━━━━━━━━━━━━━━━━━━━━━━━\u001b[0m \u001b[32m3.6/3.6 MB\u001b[0m \u001b[31m52.0 MB/s\u001b[0m eta \u001b[36m0:00:00\u001b[0m:00:01\u001b[0m\n",
      "\u001b[?25hCollecting cryptography>=2.6.1\n",
      "  Downloading cryptography-40.0.1-cp36-abi3-manylinux_2_28_x86_64.whl (3.7 MB)\n",
      "\u001b[2K     \u001b[90m━━━━━━━━━━━━━━━━━━━━━━━━━━━━━━━━━━━━━━━━\u001b[0m \u001b[32m3.7/3.7 MB\u001b[0m \u001b[31m51.6 MB/s\u001b[0m eta \u001b[36m0:00:00\u001b[0m:00:01\u001b[0m\n",
      "\u001b[?25hRequirement already satisfied: setuptools>=60.9.0 in /home/codespace/.local/lib/python3.10/site-packages (from ccxt) (67.6.0)\n",
      "Collecting aiodns>=1.1.1\n",
      "  Downloading aiodns-3.0.0-py3-none-any.whl (5.0 kB)\n",
      "Collecting aiohttp>=3.8\n",
      "  Downloading aiohttp-3.8.4-cp310-cp310-manylinux_2_17_x86_64.manylinux2014_x86_64.whl (1.0 MB)\n",
      "\u001b[2K     \u001b[90m━━━━━━━━━━━━━━━━━━━━━━━━━━━━━━━━━━━━━━━━\u001b[0m \u001b[32m1.0/1.0 MB\u001b[0m \u001b[31m24.4 MB/s\u001b[0m eta \u001b[36m0:00:00\u001b[0m:00:01\u001b[0m\n",
      "\u001b[?25hCollecting yarl>=1.7.2\n",
      "  Downloading yarl-1.8.2-cp310-cp310-manylinux_2_17_x86_64.manylinux2014_x86_64.whl (264 kB)\n",
      "\u001b[2K     \u001b[90m━━━━━━━━━━━━━━━━━━━━━━━━━━━━━━━━━━━━━━━\u001b[0m \u001b[32m264.0/264.0 kB\u001b[0m \u001b[31m9.4 MB/s\u001b[0m eta \u001b[36m0:00:00\u001b[0m\n",
      "\u001b[?25hRequirement already satisfied: certifi>=2018.1.18 in /home/codespace/.local/lib/python3.10/site-packages (from ccxt) (2022.12.7)\n",
      "Requirement already satisfied: requests>=2.18.4 in /home/codespace/.local/lib/python3.10/site-packages (from ccxt) (2.28.2)\n",
      "Collecting pycares>=4.0.0\n",
      "  Downloading pycares-4.3.0-cp310-cp310-manylinux_2_17_x86_64.manylinux2014_x86_64.whl (288 kB)\n",
      "\u001b[2K     \u001b[90m━━━━━━━━━━━━━━━━━━━━━━━━━━━━━━━━━━━━━━\u001b[0m \u001b[32m288.7/288.7 kB\u001b[0m \u001b[31m10.7 MB/s\u001b[0m eta \u001b[36m0:00:00\u001b[0m\n",
      "\u001b[?25hRequirement already satisfied: attrs>=17.3.0 in /home/codespace/.local/lib/python3.10/site-packages (from aiohttp>=3.8->ccxt) (22.2.0)\n",
      "Collecting async-timeout<5.0,>=4.0.0a3\n",
      "  Downloading async_timeout-4.0.2-py3-none-any.whl (5.8 kB)\n",
      "Requirement already satisfied: charset-normalizer<4.0,>=2.0 in /home/codespace/.local/lib/python3.10/site-packages (from aiohttp>=3.8->ccxt) (3.1.0)\n",
      "Collecting aiosignal>=1.1.2\n",
      "  Downloading aiosignal-1.3.1-py3-none-any.whl (7.6 kB)\n",
      "Collecting multidict<7.0,>=4.5\n",
      "  Downloading multidict-6.0.4-cp310-cp310-manylinux_2_17_x86_64.manylinux2014_x86_64.whl (114 kB)\n",
      "\u001b[2K     \u001b[90m━━━━━━━━━━━━━━━━━━━━━━━━━━━━━━━━━━━━━━━\u001b[0m \u001b[32m114.5/114.5 kB\u001b[0m \u001b[31m4.2 MB/s\u001b[0m eta \u001b[36m0:00:00\u001b[0m\n",
      "\u001b[?25hCollecting frozenlist>=1.1.1\n",
      "  Downloading frozenlist-1.3.3-cp310-cp310-manylinux_2_5_x86_64.manylinux1_x86_64.manylinux_2_17_x86_64.manylinux2014_x86_64.whl (149 kB)\n",
      "\u001b[2K     \u001b[90m━━━━━━━━━━━━━━━━━━━━━━━━━━━━━━━━━━━━━━━\u001b[0m \u001b[32m149.6/149.6 kB\u001b[0m \u001b[31m5.5 MB/s\u001b[0m eta \u001b[36m0:00:00\u001b[0m\n",
      "\u001b[?25hRequirement already satisfied: cffi>=1.12 in /home/codespace/.local/lib/python3.10/site-packages (from cryptography>=2.6.1->ccxt) (1.15.1)\n",
      "Requirement already satisfied: idna<4,>=2.5 in /home/codespace/.local/lib/python3.10/site-packages (from requests>=2.18.4->ccxt) (3.4)\n",
      "Requirement already satisfied: urllib3<1.27,>=1.21.1 in /home/codespace/.local/lib/python3.10/site-packages (from requests>=2.18.4->ccxt) (1.26.15)\n",
      "Requirement already satisfied: pycparser in /home/codespace/.local/lib/python3.10/site-packages (from cffi>=1.12->cryptography>=2.6.1->ccxt) (2.21)\n",
      "Installing collected packages: multidict, frozenlist, async-timeout, yarl, pycares, cryptography, aiosignal, aiohttp, aiodns, ccxt\n",
      "Successfully installed aiodns-3.0.0 aiohttp-3.8.4 aiosignal-1.3.1 async-timeout-4.0.2 ccxt-3.0.56 cryptography-40.0.1 frozenlist-1.3.3 multidict-6.0.4 pycares-4.3.0 yarl-1.8.2\n",
      "Note: you may need to restart the kernel to use updated packages.\n"
     ]
    }
   ],
   "source": [
    "%pip install ccxt"
   ]
  },
  {
   "cell_type": "code",
   "execution_count": null,
   "metadata": {},
   "outputs": [
    {
     "name": "stdout",
     "output_type": "stream",
     "text": [
      "     timestamp      open      high       low     close         volume\n",
      "0   2021-01-01  28923.63  29600.00  28624.57  29331.69   54182.925011\n",
      "1   2021-01-02  29331.70  33300.00  28946.53  32178.33  129993.873362\n",
      "2   2021-01-03  32176.45  34778.11  31962.99  33000.05  120957.566750\n",
      "3   2021-01-04  33000.05  33600.00  28130.00  31988.71  140899.885690\n",
      "4   2021-01-05  31989.75  34360.00  29900.00  33949.53  116049.997038\n",
      "..         ...       ...       ...       ...       ...            ...\n",
      "495 2022-05-11  31017.11  32162.59  27785.00  29103.94  207063.739278\n",
      "496 2022-05-12  29103.94  30243.00  26700.00  29029.75  204507.263138\n",
      "497 2022-05-13  29029.74  31083.37  28751.67  29287.05   97872.369570\n",
      "498 2022-05-14  29287.05  30343.27  28630.00  30086.74   51095.878630\n",
      "499 2022-05-15  30086.74  31460.00  29480.00  31328.89   46275.669120\n",
      "\n",
      "[500 rows x 6 columns]\n"
     ]
    }
   ],
   "source": [
    "import ccxt\n",
    "import pandas as pd\n",
    "from datetime import datetime\n",
    "\n",
    "exchange = ccxt.binance()  # We may add API key and secret here if necessary\n",
    "\n",
    "def fetch_historical_data(symbol, timeframe, since, until):\n",
    "    start_date = exchange.parse8601(since)\n",
    "    end_date = exchange.parse8601(until)\n",
    "    \n",
    "    historical_data = []\n",
    "    while start_date < end_date:\n",
    "        ohlcv = exchange.fetch_ohlcv(symbol, timeframe, start_date)\n",
    "        if not ohlcv:\n",
    "            break\n",
    "        historical_data += ohlcv\n",
    "        start_date = ohlcv[-1][0] + exchange.parse_timeframe(timeframe) * 1000\n",
    "        \n",
    "    df = pd.DataFrame(historical_data, columns=['timestamp', 'open', 'high', 'low', 'close', 'volume'])\n",
    "    df['timestamp'] = pd.to_datetime(df['timestamp'], unit='ms')\n",
    "    df.to_csv(f'{symbol}_historical_data.csv', index=False)\n",
    "    return df\n",
    "\n",
    "# Example usage: fetch data for BTC/USDT symbol, 1d (daily) timeframe, and from 2021-01-01 to 2021-08-01\n",
    "historical_data = fetch_historical_data('BTC/USDT', '1d', '2021-01-01T00:00:00Z', '2021-08-01T00:00:00Z')\n",
    "print(historical_data)"
   ]
  }
 ],
 "metadata": {
  "kernelspec": {
   "display_name": "Python 3 (ipykernel)",
   "language": "python",
   "name": "python3"
  },
  "orig_nbformat": 4
 },
 "nbformat": 4,
 "nbformat_minor": 2
}
