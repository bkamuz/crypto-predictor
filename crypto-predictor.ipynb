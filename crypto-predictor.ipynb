{
 "cells": [
  {
   "cell_type": "code",
   "execution_count": null,
   "metadata": {},
   "outputs": [],
   "source": [
    "import requests\n",
    "\n",
    "# I need a function to get historical data from Binance Api using requests lib and save it to csv file, i need to specify timerange also and from date to date"
   ]
  },
  {
   "cell_type": "code",
   "execution_count": 2,
   "metadata": {},
   "outputs": [
    {
     "name": "stdout",
     "output_type": "stream",
     "text": [
      "zsh:1: command not found: pip\n"
     ]
    }
   ],
   "source": [
    "!pip install ccxt"
   ]
  },
  {
   "cell_type": "code",
   "execution_count": 1,
   "metadata": {},
   "outputs": [
    {
     "ename": "ModuleNotFoundError",
     "evalue": "No module named 'ccxt'",
     "output_type": "error",
     "traceback": [
      "\u001b[0;31m---------------------------------------------------------------------------\u001b[0m",
      "\u001b[0;31mModuleNotFoundError\u001b[0m                       Traceback (most recent call last)",
      "Cell \u001b[0;32mIn[1], line 1\u001b[0m\n\u001b[0;32m----> 1\u001b[0m \u001b[39mimport\u001b[39;00m \u001b[39mccxt\u001b[39;00m\n\u001b[1;32m      2\u001b[0m \u001b[39mimport\u001b[39;00m \u001b[39mpandas\u001b[39;00m \u001b[39mas\u001b[39;00m \u001b[39mpd\u001b[39;00m\n\u001b[1;32m      3\u001b[0m \u001b[39mfrom\u001b[39;00m \u001b[39mdatetime\u001b[39;00m \u001b[39mimport\u001b[39;00m datetime\n",
      "\u001b[0;31mModuleNotFoundError\u001b[0m: No module named 'ccxt'"
     ]
    }
   ],
   "source": [
    "import ccxt\n",
    "import pandas as pd\n",
    "from datetime import datetime\n",
    "\n",
    "exchange = ccxt.binance()  # You may add your API key and secret here if necessary\n",
    "\n",
    "def fetch_historical_data(symbol, timeframe, since, until):\n",
    "    since_millis = exchange.parse8601(since)\n",
    "    until_millis = exchange.parse8601(until)\n",
    "    \n",
    "    historical_data = []\n",
    "    while since_millis < until_millis:\n",
    "        ohlcv = exchange.fetch_ohlcv(symbol, timeframe, since_millis)\n",
    "        if not ohlcv:\n",
    "            break\n",
    "        historical_data += ohlcv\n",
    "        since_millis = ohlcv[-1][0] + exchange.parse_timeframe(timeframe) * 1000\n",
    "        \n",
    "    df = pd.DataFrame(historical_data, columns=['timestamp', 'open', 'high', 'low', 'close', 'volume'])\n",
    "    df['timestamp'] = pd.to_datetime(df['timestamp'], unit='ms')\n",
    "    df.to_csv(f'{symbol}_historical_data.csv', index=False)\n",
    "    return df\n",
    "\n",
    "# Example usage: fetch data for BTC/USDT symbol, 1d (daily) timeframe, and from 2021-01-01 to 2021-08-01\n",
    "historical_data = fetch_historical_data('BTC/USDT', '1d', '2021-01-01T00:00:00Z', '2021-08-01T00:00:00Z')\n",
    "print(historical_data)"
   ]
  }
 ],
 "metadata": {
  "kernelspec": {
   "display_name": "Python 3",
   "language": "python",
   "name": "python3"
  },
  "language_info": {
   "codemirror_mode": {
    "name": "ipython",
    "version": 3
   },
   "file_extension": ".py",
   "mimetype": "text/x-python",
   "name": "python",
   "nbconvert_exporter": "python",
   "pygments_lexer": "ipython3",
   "version": "3.9.6"
  },
  "orig_nbformat": 4
 },
 "nbformat": 4,
 "nbformat_minor": 2
}
