{
 "cells": [
  {
   "cell_type": "code",
   "execution_count": null,
   "metadata": {},
   "outputs": [],
   "source": [
    "import pandas as pd\n",
    "import numpy as np\n",
    "import keras\n",
    "import tensorflow as tf\n",
    "from keras.preprocessing.sequence import TimeseriesGenerator\n"
   ]
  },
  {
   "cell_type": "code",
   "execution_count": null,
   "metadata": {},
   "outputs": [],
   "source": []
  },
  {
   "cell_type": "code",
   "execution_count": null,
   "metadata": {},
   "outputs": [],
   "source": []
  },
  {
   "cell_type": "code",
   "execution_count": null,
   "metadata": {},
   "outputs": [],
   "source": []
  },
  {
   "cell_type": "code",
   "execution_count": null,
   "metadata": {},
   "outputs": [],
   "source": [
    "filename = 'GOOG.csv'  # \"data/solusdt_15m_data.csv\"  # \n",
    "symbol = filename\n",
    "df = pd.read_csv(filename)\n",
    "df.info()\n",
    "\n",
    "datetime_name = 'Date'  # 'open_datetime'  # \n",
    "price_name = 'Close'\n",
    "\n",
    "df[datetime_name] = pd.to_datetime(df[datetime_name])   # , unit='ms')\n",
    "df.corr()\n",
    "#dr = df.set_axis(df[datetime_name], copy=False)\n",
    "df = df[[datetime_name, price_name]]\n",
    "\n",
    "df.head()"
   ]
  },
  {
   "cell_type": "code",
   "execution_count": null,
   "metadata": {},
   "outputs": [],
   "source": [
    "import plotly\n",
    "import plotly.graph_objects as go\n",
    "print(\"Plotly Version: \",plotly.__version__)\n"
   ]
  },
  {
   "cell_type": "code",
   "execution_count": null,
   "metadata": {},
   "outputs": [],
   "source": [
    "trace = go.Scatter(\n",
    "    x = df[datetime_name],\n",
    "    y = df[price_name],\n",
    "    mode = 'lines',\n",
    "    name = 'Data'\n",
    ")\n",
    "layout = go.Layout(\n",
    "    title = f'{symbol} Price',\n",
    "    xaxis = {'title' : \"Date\"},\n",
    "    yaxis = {'title' : \"Close (Dollars)\"}\n",
    ")\n",
    "fig = go.Figure(data=[trace], layout=layout)\n",
    "fig.show()\n"
   ]
  },
  {
   "cell_type": "code",
   "execution_count": null,
   "metadata": {},
   "outputs": [],
   "source": [
    "close_data = df[price_name].values\n",
    "close_data = close_data.reshape((-1,1))\n",
    "\n",
    "split_percent = 0.80\n",
    "split = int(split_percent*len(close_data))\n",
    "\n",
    "close_train = close_data[:split]\n",
    "close_test = close_data[split:]\n",
    "\n",
    "date_train = df[datetime_name][:split]\n",
    "date_test = df[datetime_name][split:]\n",
    "\n",
    "print(len(close_train))\n",
    "print(len(close_test))\n"
   ]
  },
  {
   "cell_type": "code",
   "execution_count": null,
   "metadata": {},
   "outputs": [],
   "source": [
    "look_back = 15\n",
    "\n",
    "\n",
    "train_generator = TimeseriesGenerator(close_train, close_train, length=look_back, batch_size=20)     \n",
    "test_generator = TimeseriesGenerator(close_test, close_test, length=look_back, batch_size=1)\n",
    "\n",
    "from keras.models import Sequential\n",
    "from keras.layers import LSTM, Dense\n",
    "\n",
    "model = Sequential()\n",
    "model.add(\n",
    "    LSTM(10,\n",
    "        activation='relu',\n",
    "        input_shape=(look_back,1))\n",
    ")\n",
    "model.add(Dense(1))\n",
    "model.compile(optimizer='adam', loss='mse')\n",
    "\n",
    "num_epochs = 50\n",
    "model.fit_generator(train_generator, epochs=num_epochs, verbose=1)\n"
   ]
  },
  {
   "cell_type": "code",
   "execution_count": null,
   "metadata": {},
   "outputs": [],
   "source": [
    "prediction = model.predict_generator(test_generator)\n",
    "# prediction\n"
   ]
  },
  {
   "cell_type": "code",
   "execution_count": null,
   "metadata": {},
   "outputs": [],
   "source": [
    "close_train = close_train.reshape((-1))\n",
    "close_test = close_test.reshape((-1))\n",
    "prediction = prediction.reshape((-1))\n",
    "\n",
    "\n",
    "trace1 = go.Scatter(\n",
    "    x = date_train,\n",
    "    y = close_train,\n",
    "    mode = 'lines',\n",
    "    name = 'Data'\n",
    ")\n",
    "trace2 = go.Scatter(\n",
    "    x = date_test,\n",
    "    y = prediction,\n",
    "    mode = 'lines',\n",
    "    name = 'Prediction'\n",
    ")\n",
    "trace3 = go.Scatter(\n",
    "    x = date_test,\n",
    "    y = close_test,\n",
    "    mode='lines',\n",
    "    name = 'Ground Truth'\n",
    ")\n",
    "layout = go.Layout(\n",
    "    title = f'{symbol} Price',\n",
    "    xaxis = {'title' : \"Date\"},\n",
    "    yaxis = {'title' : \"Close\"}\n",
    ")\n",
    "fig = go.Figure(data=[trace1, trace2, trace3], layout=layout)\n",
    "fig.show()\n"
   ]
  },
  {
   "cell_type": "code",
   "execution_count": null,
   "metadata": {},
   "outputs": [],
   "source": [
    "close_data = close_data.reshape((-1))\n",
    "\n",
    "def predict(num_prediction, model):\n",
    "    prediction_list = close_data[-look_back:]\n",
    "    \n",
    "    for _ in range(num_prediction):\n",
    "        x = prediction_list[-look_back:]\n",
    "        x = x.reshape((1, look_back, 1))\n",
    "        out = model.predict(x)[0][0]\n",
    "        prediction_list = np.append(prediction_list, out)\n",
    "    prediction_list = prediction_list[look_back-1:]\n",
    "        \n",
    "    return prediction_list\n",
    "    \n",
    "def predict_dates(num_prediction):\n",
    "    print(num_prediction)\n",
    "    last_date = df[datetime_name].values[-1]\n",
    "    print(last_date)\n",
    "    prediction_dates = pd.date_range(last_date, periods=num_prediction+1,  freq='15T').tolist()\n",
    "    print(prediction_dates)\n",
    "    return prediction_dates\n",
    "\n",
    "num_prediction = 4\n",
    "forecast = predict(num_prediction, model)\n",
    "forecast_dates = predict_dates(num_prediction)\n",
    "\n",
    "trace1 = go.Scatter(\n",
    "    x = df[datetime_name].tolist(),\n",
    "    y = close_data,\n",
    "    mode = 'lines',\n",
    "    name = 'Data'\n",
    ")\n",
    "trace2 = go.Scatter(\n",
    "    x = forecast_dates,\n",
    "    y = forecast,\n",
    "    mode = 'lines',\n",
    "    name = 'Prediction'\n",
    ")\n",
    "layout = go.Layout(\n",
    "    title = f'{symbol} Price',\n",
    "    xaxis = {'title' : \"Date\"},\n",
    "    yaxis = {'title' : \"Close\"}\n",
    ")\n",
    "\n",
    "fig = go.Figure(data=[trace1, trace2], layout=layout)\n",
    "fig.show()"
   ]
  }
 ],
 "metadata": {
  "kernelspec": {
   "display_name": "Python 3",
   "language": "python",
   "name": "python3"
  },
  "language_info": {
   "codemirror_mode": {
    "name": "ipython",
    "version": 3
   },
   "file_extension": ".py",
   "mimetype": "text/x-python",
   "name": "python",
   "nbconvert_exporter": "python",
   "pygments_lexer": "ipython3",
   "version": "3.10.6"
  },
  "orig_nbformat": 4
 },
 "nbformat": 4,
 "nbformat_minor": 2
}
